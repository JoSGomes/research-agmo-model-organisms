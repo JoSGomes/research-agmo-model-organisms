{
 "cells": [
  {
   "cell_type": "code",
   "execution_count": 1,
   "metadata": {},
   "outputs": [],
   "source": [
    "import pandas as pd\n",
    "from os import walk\n",
    "from scipy import stats"
   ]
  },
  {
   "cell_type": "code",
   "execution_count": 7,
   "metadata": {},
   "outputs": [],
   "source": [
    "path = \"..\\\\results\""
   ]
  },
  {
   "cell_type": "code",
   "execution_count": 2,
   "metadata": {},
   "outputs": [],
   "source": [
    "def get_paths_folders(path, files):\n",
    "    d = []\n",
    "    for (dirpath, dirnames, filenames) in walk(path):\n",
    "        if files:\n",
    "            d.extend(filenames[0:10])\n",
    "        else:\n",
    "            d.extend(dirnames)\n",
    "        break\n",
    "    return d"
   ]
  },
  {
   "cell_type": "code",
   "execution_count": 3,
   "metadata": {},
   "outputs": [],
   "source": [
    "def read_results(dataset1: str, dataset2: str, classifier: str):\n",
    "    if dataset1:\n",
    "        all_path = path + \"\\\\\" + dataset1 + \"\\\\\" + classifier\n",
    "        files = get_paths_folders(all_path, True)\n",
    "        without_selection = pd.read_csv(all_path + \"\\\\\" + files[0])\n",
    "    else:\n",
    "        all_path = path + \"\\\\\" + \"\\\\\" + classifier\n",
    "        files = get_paths_folders(all_path, True)\n",
    "        without_selection = pd.read_csv(all_path + \"\\\\\" + files[0])\n",
    "\n",
    "    if dataset2:\n",
    "        all_path = path + \"\\\\\" + dataset2 + \"\\\\\" + classifier\n",
    "        files = get_paths_folders(all_path, True)\n",
    "        with_selection = pd.read_csv(all_path + \"\\\\\" + files[1])\n",
    "    else:\n",
    "        all_path = path + \"\\\\\" + \"\\\\\" + classifier\n",
    "        files = get_paths_folders(all_path, True)\n",
    "        with_selection = pd.read_csv(all_path + \"\\\\\" + files[1])\n",
    "\n",
    "    return without_selection, with_selection"
   ]
  },
  {
   "cell_type": "markdown",
   "metadata": {},
   "source": [
    "#Tests J48\n",
    "- Fly Normal, T(3)\n",
    "- Mouse T(4), Normal\n",
    "- Worm Normal, Normal\n",
    "- Yeast Normal, Normal\n",
    "\n",
    "#Tests KNN\n",
    "- Fly T(3), Normal\n",
    "- Mouse Normal, Normal\n",
    "- Worm Normal, Normal\n",
    "- Yeast T(5), Normal\n",
    "\n",
    "#Tests NB\n",
    "- Fly T(3), Normal\n",
    "- Mouse T(3), Normal\n",
    "- Worm T(3), Normal\n",
    "- Yeast Normal, Normal"
   ]
  },
  {
   "cell_type": "code",
   "execution_count": 14,
   "metadata": {},
   "outputs": [],
   "source": [
    "table_fly_wilcoxon = pd.DataFrame(columns={\"Classifier\", \"P-Value\"},)\n",
    "table_mouse_wilcoxon = pd.DataFrame(columns={\"Classifier\", \"P-Value\"},)\n",
    "table_worm_wilcoxon = pd.DataFrame(columns={\"Classifier\", \"P-Value\"},)\n",
    "table_yeast_wilcoxon = pd.DataFrame(columns={\"Classifier\", \"P-Value\"},)"
   ]
  },
  {
   "cell_type": "code",
   "execution_count": 15,
   "metadata": {},
   "outputs": [],
   "source": [
    "#[Sem seleção, Com seleção, Classificador]\n",
    "tests_fly = [\n",
    "                [None, \"threshold-3\", \"J48\"], \n",
    "                [\"threshold-3\", None, \"KNN\"],\n",
    "                [\"threshold-3\", None, \"NB\"],\n",
    "            ]\n",
    "\n",
    "tests_mouse =   [\n",
    "                    [\"threshold-4\", None, \"J48\"], \n",
    "                    [None, None, \"KNN\"],\n",
    "                    [\"threshold-3\", None, \"NB\"],\n",
    "                ]\n",
    "                \n",
    "tests_worm =   [\n",
    "                    [None, None, \"J48\"], \n",
    "                    [None, None, \"KNN\"],\n",
    "                    [\"threshold-3\", None, \"NB\"],\n",
    "                ]\n",
    "\n",
    "tests_yeast =   [\n",
    "                    [None, None, \"J48\"], \n",
    "                    [\"threshold-5\", None, \"KNN\"],\n",
    "                    [None, None, \"NB\"],\n",
    "                ]"
   ]
  },
  {
   "cell_type": "code",
   "execution_count": 16,
   "metadata": {},
   "outputs": [],
   "source": [
    "#fly [0:10]\n",
    "#mouse [10:20]\n",
    "#worm [20:30]\n",
    "#yeast [30:40]\n",
    "for tests in tests_fly:\n",
    "    without_selection, with_selection = read_results(tests[0], tests[1], tests[2])\n",
    "    fly = stats.wilcoxon(without_selection[\"GMean\"][0:10], with_selection[\"GMean\"][0:10])\n",
    "    \n",
    "    table_fly_wilcoxon = table_fly_wilcoxon.append({'Classifier': tests[2], 'P-Value': fly.pvalue}, ignore_index=True)\n",
    "\n",
    "for tests in tests_mouse:\n",
    "    without_selection, with_selection = read_results(tests[0], tests[1], tests[2])\n",
    "    mouse = stats.wilcoxon(without_selection[\"GMean\"][10:20], with_selection[\"GMean\"][10:20])\n",
    "\n",
    "    table_mouse_wilcoxon = table_mouse_wilcoxon.append({'Classifier': tests[2], 'P-Value': mouse.pvalue}, ignore_index=True)\n",
    "\n",
    "for tests in tests_worm:\n",
    "    without_selection, with_selection = read_results(tests[0], tests[1], tests[2])\n",
    "    worm = stats.wilcoxon(without_selection[\"GMean\"][20:30], with_selection[\"GMean\"][20:30])\n",
    "\n",
    "    table_worm_wilcoxon = table_worm_wilcoxon.append({'Classifier': tests[2], 'P-Value': worm.pvalue}, ignore_index=True)\n",
    "\n",
    "for tests in tests_yeast:\n",
    "    without_selection, with_selection = read_results(tests[0], tests[1], tests[2])\n",
    "    yeast = stats.wilcoxon(without_selection[\"GMean\"][30:40], with_selection[\"GMean\"][30:40])\n",
    "\n",
    "    table_yeast_wilcoxon = table_yeast_wilcoxon.append({'Classifier': tests[2], 'P-Value': yeast.pvalue}, ignore_index=True)\n"
   ]
  },
  {
   "cell_type": "code",
   "execution_count": 17,
   "metadata": {},
   "outputs": [],
   "source": [
    "table_fly_wilcoxon.to_csv(\"wilcoxonTestsTables\\\\fly.csv\")\n",
    "table_mouse_wilcoxon.to_csv(\"wilcoxonTestsTables\\\\mouse.csv\")\n",
    "table_worm_wilcoxon.to_csv(\"wilcoxonTestsTables\\\\worm.csv\")\n",
    "table_yeast_wilcoxon.to_csv(\"wilcoxonTestsTables\\\\yeast.csv\")"
   ]
  }
 ],
 "metadata": {
  "kernelspec": {
   "display_name": "Python 3.7.6 64-bit",
   "language": "python",
   "name": "python3"
  },
  "language_info": {
   "codemirror_mode": {
    "name": "ipython",
    "version": 3
   },
   "file_extension": ".py",
   "mimetype": "text/x-python",
   "name": "python",
   "nbconvert_exporter": "python",
   "pygments_lexer": "ipython3",
   "version": "3.7.6"
  },
  "orig_nbformat": 4,
  "vscode": {
   "interpreter": {
    "hash": "502c707973e4b29cbbed7e41cb0e7deb512111fd14cc0f1755c2d35515473375"
   }
  }
 },
 "nbformat": 4,
 "nbformat_minor": 2
}
