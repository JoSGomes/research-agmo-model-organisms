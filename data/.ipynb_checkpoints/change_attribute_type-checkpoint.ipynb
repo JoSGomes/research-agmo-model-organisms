{
 "cells": [
  {
   "cell_type": "code",
   "execution_count": 1,
   "id": "9a550069-d2af-4369-aa19-3e07fde2e27c",
   "metadata": {
    "scrolled": true
   },
   "outputs": [],
   "source": [
    "import os\n",
    "\n",
    "organisms = ['Caenorhabditis elegans', 'Drosophila melanogaster', 'Mus musculus', 'Saccharomyces cerevisiae']\n",
    "organismsMap = {'Caenorhabditis elegans': 'worm', 'Drosophila melanogaster': 'fly', 'Mus musculus': 'mouse', 'Saccharomyces cerevisiae': 'yeast'}\n",
    "\n",
    "def search_and_replace(file_path, search_word, replace_word):\n",
    "   with open(file_path, 'r') as file:\n",
    "      file_contents = file.read()\n",
    "\n",
    "      updated_contents = file_contents.replace(search_word, replace_word)\n",
    "\n",
    "   with open(file_path, 'w') as file:\n",
    "      file.write(updated_contents)\n",
    "\n",
    "for organism in organisms:\n",
    "    for path in os.listdir(f\"{organism}\"):\n",
    "            allpath = f\"{organism}/{path}\"\n",
    "            if not os.path.isfile(allpath) and not allpath.__contains__(\"DAG\"):\n",
    "                for path2 in os.listdir(allpath):\n",
    "                    allPathDataset = allpath + \"/\" + path2\n",
    "                    for path3 in os.listdir(allPathDataset):\n",
    "                        allpathFile = allPathDataset + \"/\" + path3\n",
    "                        search_and_replace(allpathFile, \"REAL\", \"{0,1}\")"
   ]
  },
  {
   "cell_type": "code",
   "execution_count": null,
   "id": "26327ffb-69aa-492f-9a07-6d823adafae1",
   "metadata": {},
   "outputs": [],
   "source": []
  }
 ],
 "metadata": {
  "kernelspec": {
   "display_name": "Python 3 (ipykernel)",
   "language": "python",
   "name": "python3"
  },
  "language_info": {
   "codemirror_mode": {
    "name": "ipython",
    "version": 3
   },
   "file_extension": ".py",
   "mimetype": "text/x-python",
   "name": "python",
   "nbconvert_exporter": "python",
   "pygments_lexer": "ipython3",
   "version": "3.12.3"
  }
 },
 "nbformat": 4,
 "nbformat_minor": 5
}
