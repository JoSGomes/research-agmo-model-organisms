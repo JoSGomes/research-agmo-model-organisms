{
 "cells": [
  {
   "cell_type": "code",
   "execution_count": 33,
   "id": "3557a0af-c9e0-4879-b8d4-44f8fe320c9f",
   "metadata": {
    "scrolled": true
   },
   "outputs": [
    {
     "name": "stdout",
     "output_type": "stream",
     "text": [
      "Caenorhabditis elegans/DAG/DAG-BP.csv\n",
      "Caenorhabditis elegans/DAG/DAG-BPCC.csv\n",
      "Caenorhabditis elegans/DAG/DAG-BPMF.csv\n",
      "Caenorhabditis elegans/DAG/DAG-BPMFCC.csv\n",
      "Caenorhabditis elegans/DAG/DAG-CC.csv\n",
      "Caenorhabditis elegans/DAG/DAG-MF.csv\n",
      "Caenorhabditis elegans/DAG/DAG-MFCC.csv\n",
      "Drosophila melanogaster/DAG/DAG-BP.csv\n",
      "Drosophila melanogaster/DAG/DAG-BPCC.csv\n",
      "Drosophila melanogaster/DAG/DAG-BPMF.csv\n",
      "Drosophila melanogaster/DAG/DAG-BPMFCC.csv\n",
      "Drosophila melanogaster/DAG/DAG-CC.csv\n",
      "Drosophila melanogaster/DAG/DAG-MF.csv\n",
      "Drosophila melanogaster/DAG/DAG-MFCC.csv\n",
      "Mus musculus/DAG/DAG-BP.csv\n",
      "Mus musculus/DAG/DAG-BPCC.csv\n",
      "Mus musculus/DAG/DAG-BPMF.csv\n",
      "Mus musculus/DAG/DAG-BPMFCC.csv\n",
      "Mus musculus/DAG/DAG-CC.csv\n",
      "Mus musculus/DAG/DAG-MF.csv\n",
      "Mus musculus/DAG/DAG-MFCC.csv\n",
      "Saccharomyces cerevisiae/DAG/DAG-BP.csv\n",
      "Saccharomyces cerevisiae/DAG/DAG-BPCC.csv\n",
      "Saccharomyces cerevisiae/DAG/DAG-BPMF.csv\n",
      "Saccharomyces cerevisiae/DAG/DAG-BPMFCC.csv\n",
      "Saccharomyces cerevisiae/DAG/DAG-CC.csv\n",
      "Saccharomyces cerevisiae/DAG/DAG-MF.csv\n",
      "Saccharomyces cerevisiae/DAG/DAG-MFCC.csv\n"
     ]
    }
   ],
   "source": [
    "import pandas as pd\n",
    "import numpy as np\n",
    "import os\n",
    "                 \n",
    "organisms = ['Caenorhabditis elegans', 'Drosophila melanogaster', 'Mus musculus', 'Saccharomyces cerevisiae']\n",
    "desc = \"\"\n",
    "asc = \"\"\n",
    "for organism in organisms:\n",
    "    for path in os.listdir(f\"{organism}/DAG\"):\n",
    "        allpath = f\"{organism}/DAG/{path}\"\n",
    "        if os.path.isfile(allpath):\n",
    "            print(allpath)\n",
    "            dag = pd.read_csv(allpath)\n",
    "            dag.set_index('Unnamed: 0', inplace=True)\n",
    "            \n",
    "            # Descendentes\n",
    "            for col_name, col_data in dag.items():\n",
    "                desc += col_name\n",
    "                for index, value in col_data.items():\n",
    "                    if value == 1:\n",
    "                        desc += \" \" + index\n",
    "                desc += \"\\n\"\n",
    "                \n",
    "            # Ancestrais\n",
    "            for index, row in dag.iterrows():\n",
    "                asc += index\n",
    "                for col_name, value in row.items():\n",
    "                    if value == 1:\n",
    "                        asc += \" \" + col_name\n",
    "                asc += \"\\n\"\n",
    "            descFile = open(f\"{organism}/DAG/DESC/{path.split(\".\")[0]}-DESC.txt\", \"w\")\n",
    "            ascFile = open(f\"{organism}/DAG/ASC/{path.split(\".\")[0]}-ASC.txt\", \"w\")\n",
    "            descFile.write(desc)\n",
    "            ascFile.write(asc)\n",
    "            descFile.close()\n",
    "            ascFile.close()\n",
    "            desc = \"\"\n",
    "            asc = \"\""
   ]
  },
  {
   "cell_type": "code",
   "execution_count": null,
   "id": "ff6e6def-0a4b-4f86-8a3b-aaa0a246d523",
   "metadata": {},
   "outputs": [],
   "source": []
  }
 ],
 "metadata": {
  "kernelspec": {
   "display_name": "Python 3 (ipykernel)",
   "language": "python",
   "name": "python3"
  },
  "language_info": {
   "codemirror_mode": {
    "name": "ipython",
    "version": 3
   },
   "file_extension": ".py",
   "mimetype": "text/x-python",
   "name": "python",
   "nbconvert_exporter": "python",
   "pygments_lexer": "ipython3",
   "version": "3.12.3"
  }
 },
 "nbformat": 4,
 "nbformat_minor": 5
}
