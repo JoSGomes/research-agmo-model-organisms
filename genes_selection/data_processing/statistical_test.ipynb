{
 "cells": [
  {
   "cell_type": "code",
   "execution_count": 1,
   "metadata": {},
   "outputs": [],
   "source": [
    "from scipy import stats\n",
    "from data_processing import get_paths_folders\n",
    "\n",
    "import pandas as pd\n",
    "import numpy as np"
   ]
  },
  {
   "cell_type": "code",
   "execution_count": 2,
   "metadata": {},
   "outputs": [],
   "source": [
    "path = \"..\\\\results\""
   ]
  },
  {
   "cell_type": "code",
   "execution_count": 3,
   "metadata": {},
   "outputs": [],
   "source": [
    "def slice_dataframe(data):\n",
    "    UniqueNames = data.organism.unique()\n",
    "\n",
    "    #create a data frame dictionary to store your data frames\n",
    "    DataFrameDict = {elem : pd.DataFrame for elem in UniqueNames}\n",
    "    for key in DataFrameDict.keys():\n",
    "        DataFrameDict[key] = data[data.organism == key][:].reset_index().drop('index', axis=1)\n",
    "        \n",
    "    return DataFrameDict"
   ]
  },
  {
   "cell_type": "code",
   "execution_count": 9,
   "metadata": {},
   "outputs": [],
   "source": [
    "d = get_paths_folders(path, False)\n",
    "results_classifiers = {}\n",
    "for dirname in d: #\\results\\j48 (if not threshold)   \n",
    "    if dirname.__contains__(\"threshold\"):\n",
    "        results_classifiers[dirname] = {}\n",
    "        newPath = path + \"\\\\\" + dirname      \n",
    "        d1 = get_paths_folders(newPath, False)\n",
    "        for dirname1 in d1:\n",
    "            results_classifiers[dirname][dirname1] = {}\n",
    "            newPath2 = newPath + \"\\\\\" + dirname1\n",
    "            f = get_paths_folders(newPath2, True)\n",
    "            for filename in f:        \n",
    "                df = pd.read_csv(newPath2 + \"\\\\\" + filename)\n",
    "                df.drop(df.filter(regex=\"Unnamed\"), axis=1, inplace=True)   \n",
    "                df = df.replace(\",\", \".\", regex=True)\n",
    "                df = df.astype({\"GMean\": float, \"ratioReduction\": float})\n",
    "                DataFrameDict = slice_dataframe(df)\n",
    "                for key in DataFrameDict.keys():           \n",
    "                    k = 0                   \n",
    "                    for value in DataFrameDict[key][\"GMean\"]: \n",
    "                        if value <= 0:                           \n",
    "                            value = value * (-1)\n",
    "                        DataFrameDict[key].at[k, \"GMean\"] = value\n",
    "                        k = k + 1                 \n",
    "                    DataFrameDict[key] =  DataFrameDict[key].sort_values(by='Fold', ascending=True)\n",
    "\n",
    "                \n",
    "                for key in DataFrameDict.keys():\n",
    "                    if key not in results_classifiers[dirname][dirname1].keys():\n",
    "                        results_classifiers[dirname][dirname1][key] = list()                   \n",
    "                    results_classifiers[dirname][dirname1][key].append(DataFrameDict[key])\n",
    "\n",
    "    else:\n",
    "        results_classifiers[dirname] = {}\n",
    "        newPath = path + \"\\\\\" + dirname\n",
    "        f = get_paths_folders(newPath, True)\n",
    "        for filename in f:        \n",
    "            df = pd.read_csv(newPath + \"\\\\\" + filename)\n",
    "            df.drop(df.filter(regex=\"Unnamed\"), axis=1, inplace=True)   \n",
    "            df = df.replace(\",\", \".\", regex=True)\n",
    "            df = df.astype({\"GMean\": float, \"ratioReduction\": float})\n",
    "            DataFrameDict = slice_dataframe(df)\n",
    "            for key in DataFrameDict.keys():           \n",
    "                k = 0\n",
    "                for value in DataFrameDict[key][\"GMean\"]:             \n",
    "                    if value <= 0:\n",
    "                        value = value * (-1)\n",
    "                    DataFrameDict[key].at[k, \"GMean\"] = value\n",
    "                    k = k + 1            \n",
    "                DataFrameDict[key] =  DataFrameDict[key].sort_values(by='Fold', ascending=True)\n",
    "\n",
    "            \n",
    "            for key in DataFrameDict.keys():\n",
    "                if key not in results_classifiers[dirname].keys():\n",
    "                    results_classifiers[dirname][key] = list()                   \n",
    "                results_classifiers[dirname][key].append(DataFrameDict[key])  \n"
   ]
  },
  {
   "cell_type": "code",
   "execution_count": 16,
   "metadata": {},
   "outputs": [
    {
     "name": "stdout",
     "output_type": "stream",
     "text": [
      "0     0.00\n",
      "3    49.39\n",
      "1    55.95\n",
      "4    48.84\n",
      "2    37.12\n",
      "5     0.00\n",
      "7    57.08\n",
      "8     0.00\n",
      "6    56.71\n",
      "9     0.00\n",
      "Name: GMean, dtype: float64\n"
     ]
    }
   ],
   "source": [
    "print(results_classifiers['KNN']['yeast'][1]['GMean'])"
   ]
  },
  {
   "cell_type": "code",
   "execution_count": 6,
   "metadata": {},
   "outputs": [
    {
     "data": {
      "text/plain": [
       "FriedmanchisquareResult(statistic=25.8187134502924, pvalue=9.675756054634503e-05)"
      ]
     },
     "execution_count": 6,
     "metadata": {},
     "output_type": "execute_result"
    }
   ],
   "source": [
    "stats.friedmanchisquare(results_classifiers['threshold-10']['KNN']['worm'][1]['GMean'],\n",
    "                        results_classifiers['threshold-10']['KNN']['worm'][0]['GMean'],\n",
    "                        results_classifiers['threshold-10']['NB']['worm'][1]['GMean'],\n",
    "                        results_classifiers['threshold-10']['NB']['worm'][0]['GMean'],\n",
    "                        results_classifiers['threshold-10']['J48']['worm'][1]['GMean'],\n",
    "                        results_classifiers['threshold-10']['J48']['worm'][0]['GMean']\n",
    "                        )"
   ]
  },
  {
   "cell_type": "code",
   "execution_count": 15,
   "metadata": {},
   "outputs": [
    {
     "data": {
      "text/plain": [
       "17.54998304842486"
      ]
     },
     "execution_count": 15,
     "metadata": {},
     "output_type": "execute_result"
    }
   ],
   "source": [
    "np.std(results_classifiers['NB']['fly'][1]['GMean'])"
   ]
  }
 ],
 "metadata": {
  "interpreter": {
   "hash": "a4f73a8ce08b04368bd07d21fedcef5cd8e77b9606297e28624a6a5764ecc21d"
  },
  "kernelspec": {
   "display_name": "Python 3.7.6 64-bit ('base2': conda)",
   "language": "python",
   "name": "python3"
  },
  "language_info": {
   "codemirror_mode": {
    "name": "ipython",
    "version": 3
   },
   "file_extension": ".py",
   "mimetype": "text/x-python",
   "name": "python",
   "nbconvert_exporter": "python",
   "pygments_lexer": "ipython3",
   "version": "3.7.6"
  },
  "orig_nbformat": 4
 },
 "nbformat": 4,
 "nbformat_minor": 2
}
